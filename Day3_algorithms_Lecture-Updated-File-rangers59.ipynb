{
 "cells": [
  {
   "cell_type": "markdown",
   "metadata": {},
   "source": [
    "# Algorithms, Binary Search & Linked Lists"
   ]
  },
  {
   "cell_type": "markdown",
   "metadata": {},
   "source": [
    "## Tasks Today:\n",
    " \n",
    "1) <b>In-Place Algorithms</b> <br>\n",
    " &nbsp;&nbsp;&nbsp;&nbsp; a) Syntax <br>\n",
    " &nbsp;&nbsp;&nbsp;&nbsp; a) Out of Place Algorithm <br>\n",
    " &nbsp;&nbsp;&nbsp;&nbsp; b) In-Class Exercise #1 <br>\n",
    "2) <b>Two Pointers</b> <br>\n",
    "3) <b>Linked Lists</b> <br>\n",
    "4) <b>Merge Sort</b> <br>\n",
    " &nbsp;&nbsp;&nbsp;&nbsp; a) Video on Algorithms <br>\n",
    " &nbsp;&nbsp;&nbsp;&nbsp; b) How it Works <br>\n",
    "5) <b>Exercises</b> <br>\n",
    " &nbsp;&nbsp;&nbsp;&nbsp; a) Exercise #1 - Reverse a List in Place Using an In-Place Algorithm <br>\n",
    " &nbsp;&nbsp;&nbsp;&nbsp; b) Exercise #2 - Find Distinct Words <br>\n",
    " &nbsp;&nbsp;&nbsp;&nbsp; c) Exercise #3 - Write a program to implement a Linear Search Algorithm. <br>"
   ]
  },
  {
   "cell_type": "markdown",
   "metadata": {},
   "source": [
    "## In-Place Algorithms"
   ]
  },
  {
   "cell_type": "markdown",
   "metadata": {},
   "source": [
    "#### Syntax"
   ]
  },
  {
   "cell_type": "code",
   "execution_count": 40,
   "metadata": {},
   "outputs": [
    {
     "name": "stdout",
     "output_type": "stream",
     "text": [
      "before swap: [10, 20, 30]\n",
      "swapped: [30, 20, 10]\n"
     ]
    }
   ],
   "source": [
    "#swap algorithm\n",
    "#var[i], var[i+1] = var [i+1], var[i]\n",
    "\n",
    "def swap(a_list,x,y,z):\n",
    "    a_list[x],a_list[y],a_list[z] = a_list[z],a_list[y],a_list[x]\n",
    "    return(a_list)\n",
    "    \n",
    "my_list = [10,20,30]\n",
    "print(f\"before swap: {my_list}\")\n",
    "      \n",
    "#swap\n",
    "swap(my_list,2,1,0)\n",
    "print(f\"swapped: {my_list}\")\n"
   ]
  },
  {
   "cell_type": "markdown",
   "metadata": {},
   "source": [
    "#### Out of Place Algorithm\n"
   ]
  },
  {
   "cell_type": "code",
   "execution_count": 45,
   "metadata": {},
   "outputs": [
    {
     "name": "stdout",
     "output_type": "stream",
     "text": [
      "[10, 20, 30]\n",
      "[30, 20, 10]\n",
      "Before ['a', 'b', 'c', 'd']\n",
      "after ['d', 'c', 'b', 'a']\n"
     ]
    }
   ],
   "source": [
    "#now swapping-- copies to another place in memory\n",
    "\n",
    "my_list_copy = my_list[::-1]\n",
    "print(my_list_copy)\n",
    "print(my_list)\n",
    "\n",
    "array = ['a','b','c','d']\n",
    "new_array = ['a']*len(array)\n",
    "\n",
    "print(\"Before\",array)\n",
    "\n",
    "length = len(array)-1 #3\n",
    "\n",
    "for i in range(length): #0,1,2,3 [d,c,b,a]\n",
    "    new_array[i] = array[length-i]\n",
    "\n",
    "\n",
    "array = new_array\n",
    "print(\"after\",array)"
   ]
  },
  {
   "cell_type": "markdown",
   "metadata": {},
   "source": [
    "#### In-Class Exercise #1 <br>\n",
    "<p>Write a function that takes in four arguments (list, index1, index2, index3), and swaps those three positions in the list passed in.</p>"
   ]
  },
  {
   "cell_type": "code",
   "execution_count": 47,
   "metadata": {},
   "outputs": [
    {
     "data": {
      "text/plain": [
       "[6, 4, 3, 10, 4, 2, 8]"
      ]
     },
     "execution_count": 47,
     "metadata": {},
     "output_type": "execute_result"
    }
   ],
   "source": [
    "l_1 = [10, 4, 3, 8, 4, 2, 6]\n",
    "def swappy(listy,i1,i2,i3):\n",
    "    listy[i1],listy[i2],listy[i3] = listy[i3],listy[i1],listy[i2]\n",
    "    return(listy)\n",
    "\n",
    "swappy(l_1,0,3,6)\n",
    "\n"
   ]
  },
  {
   "cell_type": "markdown",
   "metadata": {},
   "source": [
    "## Two Pointers"
   ]
  },
  {
   "cell_type": "markdown",
   "metadata": {},
   "source": [
    "#### Syntax"
   ]
  },
  {
   "cell_type": "code",
   "execution_count": 49,
   "metadata": {},
   "outputs": [
    {
     "data": {
      "text/plain": [
       "[22, 11, 9, 8, 7, 6, 5, 4, 3, 2, 1]"
      ]
     },
     "execution_count": 49,
     "metadata": {},
     "output_type": "execute_result"
    }
   ],
   "source": [
    "#alist[left],alist[right] = alist[right],alist[left]\n",
    "\n",
    "def twopoints(alist):\n",
    "    #create pointers\n",
    "    left=0\n",
    "    right = len(alist) - 1\n",
    "    #set up a loop that works through list and swaps one pair at at time\n",
    "    while left <= right:\n",
    "        alist[left],alist[right] = alist[right], alist[left]\n",
    "        left +=1\n",
    "        right-=1\n",
    "        \n",
    "    return alist\n",
    "\n",
    "my_list2=[1,2,3,4,5,6,7,8,9,11,22]\n",
    "twopoints(my_list2)"
   ]
  },
  {
   "cell_type": "markdown",
   "metadata": {},
   "source": [
    "#### Video of Algorithms <br>\n",
    "<p>Watch the video about algorithms.</p>\n",
    "\n",
    "https://www.youtube.com/watch?v=Q9HjeFD62Uk\n",
    "\n",
    "https://www.youtube.com/watch?v=kPRA0W1kECg\n",
    "\n",
    "https://www.youtube.com/watch?v=ZZuD6iUe3Pc"
   ]
  },
  {
   "cell_type": "markdown",
   "metadata": {},
   "source": [
    "# Sorting Algorithms"
   ]
  },
  {
   "cell_type": "markdown",
   "metadata": {},
   "source": [
    "#### Bubble Sort\n",
    "\n",
    "Worst Case: O(n^2) Time - O(1) Space"
   ]
  },
  {
   "cell_type": "code",
   "execution_count": 52,
   "metadata": {},
   "outputs": [
    {
     "data": {
      "text/plain": [
       "[1, 22, 34, 44, 55, 66, 88, 100]"
      ]
     },
     "execution_count": 52,
     "metadata": {},
     "output_type": "execute_result"
    }
   ],
   "source": [
    "def swaptime(i,j,array):\n",
    "    array[i],array[j] = array[j],array[i]\n",
    "    \n",
    "def bubbleSort(array):\n",
    "    isSorted = False\n",
    "    while not isSorted:\n",
    "        isSorted = True\n",
    "        for num in range(len(array)-1):\n",
    "            if array[num] > array[num+1]:\n",
    "                swaptime(num, num+1, array)\n",
    "                isSorted = False\n",
    "    return array\n",
    "\n",
    "bubbleSort([22,55,88,44,1,100,34,66])"
   ]
  },
  {
   "cell_type": "markdown",
   "metadata": {},
   "source": [
    "##### Insertion Sort\n",
    "\n",
    "Worst Case: O(n^2) time - O(1)space"
   ]
  },
  {
   "cell_type": "code",
   "execution_count": 58,
   "metadata": {},
   "outputs": [
    {
     "data": {
      "text/plain": [
       "[1, 22, 34, 44, 55, 66, 88, 100]"
      ]
     },
     "execution_count": 58,
     "metadata": {},
     "output_type": "execute_result"
    }
   ],
   "source": [
    "def swappy(i,j,array):\n",
    "    array[i], array[j] = array[j], array[i]\n",
    "    \n",
    "def insertionSort(array):\n",
    "    for i in range(1,len(array)):\n",
    "        j = i\n",
    "        while j > 0 and array[j] < array[j-1]:\n",
    "            swappy(j,j-1,array)\n",
    "            j-=1\n",
    "    return array\n",
    "\n",
    "insertionSort([22,55,88,44,1,100,34,66])\n",
    "    "
   ]
  },
  {
   "cell_type": "markdown",
   "metadata": {},
   "source": [
    "## Merge Sort"
   ]
  },
  {
   "cell_type": "markdown",
   "metadata": {},
   "source": [
    "#### How it Works"
   ]
  },
  {
   "cell_type": "code",
   "execution_count": 71,
   "metadata": {},
   "outputs": [
    {
     "name": "stdout",
     "output_type": "stream",
     "text": [
      "[11, 17, 18, 15, 10]\n",
      "splitting... [11, 17, 18, 15, 10]\n",
      "splitting... [11, 17]\n",
      "splitting... [11]\n",
      "splitting... [17]\n",
      "merging [17, 17]\n",
      "splitting... [18, 15, 10]\n",
      "splitting... [18]\n",
      "splitting... [15, 10]\n",
      "splitting... [15]\n",
      "splitting... [10]\n",
      "merging [10, 15]\n",
      "merging [10, 15, 18]\n",
      "merging [10, 15, 18, 15, 10]\n"
     ]
    },
    {
     "data": {
      "text/plain": [
       "[10, 15, 18, 15, 10]"
      ]
     },
     "execution_count": 71,
     "metadata": {},
     "output_type": "execute_result"
    }
   ],
   "source": [
    "#step 1: split everything into its own group\n",
    "#step 2: from left to right, merge two groups together\n",
    "#step 3: while merging, place each item in the correct psotinio within the meregd rgoup\n",
    "#step 4: continue steps 3-4\n",
    "\n",
    "from random import randint\n",
    "#used to generate random list of 5 numbers from 0 to 20\n",
    "nums = [randint(0,20) for i in range(5)]\n",
    "print(nums)\n",
    "\n",
    "#write our merge sort below\n",
    "def mergeSort(alist):\n",
    "    print(\"splitting...\",alist)\n",
    "    #step 1: divide into equal parts as much as is possible\n",
    "    if len(alist)>1:\n",
    "        mid=len(alist)//2\n",
    "        lefthalf=alist[:mid]\n",
    "        righthalf=alist[mid:]\n",
    "        \n",
    "        #recursively perform merge sort to perform splits if needed\n",
    "        #THEN merge once splits are done\n",
    "        mergeSort(lefthalf)\n",
    "        mergeSort(righthalf)\n",
    "        \n",
    "        #index points for our list\n",
    "        i = 0 # pointer for left half\n",
    "        j = 0 # pointer for right half\n",
    "        k = 0 # pointer for main array\n",
    "        \n",
    "        #Step 2: Compare the lefthalf and righthalf\n",
    "        \n",
    "        while i < len(lefthalf) and j<len(righthalf):\n",
    "            if lefthalf[i] < righthalf[j]:\n",
    "                alist[k] = lefthalf[i]\n",
    "                i = i + 1\n",
    "            else: \n",
    "                alist[k] = righthalf[j]\n",
    "                j = j + 1\n",
    "                k = k+1\n",
    "            \n",
    "        #Step 3: while merging, place items in correct positions\n",
    "        while i < len(lefthalf):\n",
    "            alist[k] = lefthalf[i]\n",
    "            i = i + 1\n",
    "            k = k + 1\n",
    "        while j < len(righthalf):\n",
    "            alist[k] = righthalf[j]\n",
    "            j = j+1\n",
    "            k = k+1\n",
    "            \n",
    "        print(\"merging\",alist)\n",
    "        return alist\n",
    "        \n",
    "mergeSort(nums)\n",
    "                \n",
    "                "
   ]
  },
  {
   "cell_type": "markdown",
   "metadata": {},
   "source": [
    "# Binary Search\n",
    "\n",
    "The Binary Search algorithm works by finding the number in the middle of a given array and comparing it to the target. Given that the array is sorted\n",
    "\n",
    "* The worst case run time for this algorithm is `O(log(n))`"
   ]
  },
  {
   "cell_type": "code",
   "execution_count": 79,
   "metadata": {},
   "outputs": [
    {
     "data": {
      "text/plain": [
       "'The index is...1'"
      ]
     },
     "execution_count": 79,
     "metadata": {},
     "output_type": "execute_result"
    }
   ],
   "source": [
    "#can only work if list is in order\n",
    "\n",
    "def binarySearchHelperFunction(array, target, left, right):\n",
    "    while left <= right:\n",
    "        middle = (left+right)//2\n",
    "        potentialMatch = array[middle]\n",
    "        if target == potentialMatch:\n",
    "            return(f\"The index is...{middle}\")\n",
    "        elif target < potentialMatch:\n",
    "            right = middle - 1\n",
    "        else:\n",
    "            left = middle + 1\n",
    "    return -1\n",
    "                   \n",
    "def binarySearch(array,target):\n",
    "    return binarySearchHelperFunction(array,target,0,len(array)-1)\n",
    "\n",
    "binarySearch([22,44,55,66,88,100],44)"
   ]
  },
  {
   "cell_type": "markdown",
   "metadata": {},
   "source": [
    "# Exercises"
   ]
  },
  {
   "cell_type": "markdown",
   "metadata": {},
   "source": [
    "### Exercise #1 <br>\n",
    "<p>Reverse the list below in-place using an in-place algorithm.<br>For extra credit: Reverse the strings at the same time.</p>"
   ]
  },
  {
   "cell_type": "code",
   "execution_count": null,
   "metadata": {},
   "outputs": [],
   "source": [
    "words = ['this' , 'is', 'a', 'sentence', '.']\n",
    "\n",
    "def swapwords(words,w,x,y,z):\n",
    "    words[w],words[x],words[y],words[z]=words[z][::-1],words[y][::-1],words[x][::-1],words[w][::-1]\n",
    "    return(words)\n",
    "\n",
    "words = ['this' , 'is', 'a', 'sentence', '.']\n",
    "print(f\"o.g. list:{words}\")\n",
    "\n",
    "swapwords(words,0,1,2,3)\n",
    "print(f\"upgraded edition:{words}\")"
   ]
  },
  {
   "cell_type": "markdown",
   "metadata": {},
   "source": [
    "### Exercise #2 <br>\n",
    "<p>Create a function that counts how many distinct words are in the string below, then outputs a dictionary with the words as the key and the value as the amount of times that word appears in the string.<br>Should output:<br>{'a': 5,<br>\n",
    " 'abstract': 1,<br>\n",
    " 'an': 3,<br>\n",
    " 'array': 2, ... etc...</p>"
   ]
  },
  {
   "cell_type": "code",
   "execution_count": null,
   "metadata": {},
   "outputs": [],
   "source": [
    "a_text = 'In computing, a hash table hash map is a data structure which implements an associative array abstract data type, a structure that can map keys to values. A hash table uses a hash function to compute an index into an array of buckets or slots from which the desired value can be found'\n",
    "\n",
    "#I'm not sure how to make it count the word a vs the letter a\n",
    "\n",
    "a_text = 'In computing, a hash table hash map is a data structure which implements an associative array abstract data type, a structure that can map keys to values. A hash table uses a hash function to compute an index into an array of buckets or slots from which the desired value can be found'\n",
    "\n",
    "def splitty(stringy):\n",
    "    #split words from string, count occurances & put into dictionary \n",
    "    dicto = {}\n",
    "    for word in a_text.split(' '):\n",
    "        dicto[word.lower()] = stringy.count(word)\n",
    "\n",
    "\n",
    "#failed attempt to sort dictionary by values\n",
    "\n",
    "    # sorted_values = sorted(dicto.values(),reverse=True)\n",
    "    # sorted_dicto = {}\n",
    "    # print(dicto.keys())\n",
    "    # for x in sorted_values:\n",
    "    #     for y in dicto.keys():\n",
    "    #         if dicto[y] == x:\n",
    "    #             sorted_dicto[y] == dicto[y]"
   ]
  },
  {
   "cell_type": "markdown",
   "metadata": {},
   "source": [
    "## Exercise #3\n",
    "\n",
    "Write a program to implement a Linear Search Algorithm. Also in a comment, write the Time Complexity of the following algorithm.\n",
    "\n",
    "#### Hint: Linear Searching will require searching a list for a given number. "
   ]
  },
  {
   "cell_type": "code",
   "execution_count": null,
   "metadata": {},
   "outputs": [],
   "source": [
    "#Time Complexity: O(n) - the time grows exactly as the length of the object grows\n",
    "\n",
    "def linearSearch(listy,value):\n",
    "    for val in listy:\n",
    "        if val==value:\n",
    "            return(f\"your number {value} IS in the list.\")\n",
    "\n",
    "#test\n",
    "listy = list(range(101))\n",
    "print(linearSearch(listy,8))"
   ]
  }
 ],
 "metadata": {
  "kernelspec": {
   "display_name": "Python 3 (ipykernel)",
   "language": "python",
   "name": "python3"
  },
  "language_info": {
   "codemirror_mode": {
    "name": "ipython",
    "version": 3
   },
   "file_extension": ".py",
   "mimetype": "text/x-python",
   "name": "python",
   "nbconvert_exporter": "python",
   "pygments_lexer": "ipython3",
   "version": "3.9.7"
  }
 },
 "nbformat": 4,
 "nbformat_minor": 2
}
